{
 "cells": [
  {
   "cell_type": "code",
   "execution_count": 2,
   "metadata": {},
   "outputs": [
    {
     "name": "stdout",
     "output_type": "stream",
     "text": [
      "Shift 1 time:\n",
      "['06:30', '06:32', '06:33', '06:34', '06:36', '06:38', '06:39', '06:41', '06:42', '06:43', '06:44', '06:45', '06:46', '06:47', '06:48', '06:49', '06:50', '06:51', '06:53', '06:55', '06:57', '06:58', '07:00', '07:01', '07:03', '07:05', '07:07', '07:09', '07:10', '07:12', '07:14', '07:16', '07:18', '07:20', '07:21', '07:23', '07:24', '07:25', '07:00', '07:02', '07:03', '07:04', '07:06', '07:08', '07:09', '07:11', '07:12', '07:13', '07:14', '07:15', '07:16', '07:17', '07:18', '07:19', '07:20', '07:21', '07:23', '07:25', '07:27', '07:28', '07:30', '07:31', '07:33', '07:35', '07:37', '07:39', '07:40', '07:42', '07:44', '07:46', '07:48', '07:49', '07:51', '07:53', '07:54', '07:55']\n"
     ]
    }
   ],
   "source": [
    "#Day002_HW.py\n",
    "\n",
    "import csv\n",
    "import urllib.request\n",
    "import os, sys\n",
    "# target_dir=os.path.dirname(__file__)+'\\\\data\\\\'\n",
    "target_dir=os.path.abspath('')+'\\\\data\\\\'\n",
    "FileName = 'GetData.csv'\n",
    "res = \"http://opendata.hccg.gov.tw/dataset/432257df-491f-4875-8b56-dd814aee5d7b/resource/de014c8b-9b75-4152-9fc6-f0d499cefbe4/download/20150305140446074.csv\"\n",
    "urllib.request.urlretrieve(res, target_dir+FileName)\n",
    "Shift1=[]\n",
    "Shift2=[]\n",
    "Shift3=[]\n",
    "Shift4=[]\n",
    "Shift5=[]\n",
    "with open(target_dir+FileName, newline='',encoding='utf-8') as csvfile:\n",
    "    # 讀取 CSV 檔案內容\n",
    "    rows = csv.DictReader(csvfile)\n",
    "    for row in rows:\n",
    "        Shift1.append(row[\"班次1\"])\n",
    "        Shift2.append(row[\"班次2\"])\n",
    "        Shift3.append(row[\"班次3\"])\n",
    "        Shift4.append(row[\"班次4\"])\n",
    "        Shift5.append(row[\"班次5\"])\n",
    "        \n",
    "print(\"Shift 1 time:\")\n",
    "print(Shift1)\n",
    "\n"
   ]
  },
  {
   "cell_type": "code",
   "execution_count": null,
   "metadata": {},
   "outputs": [],
   "source": []
  }
 ],
 "metadata": {
  "kernelspec": {
   "display_name": "Python 3.6.8 64-bit",
   "language": "python",
   "name": "python36864bit8dcced1438ee403c9d6ee74b67ec4259"
  },
  "language_info": {
   "codemirror_mode": {
    "name": "ipython",
    "version": 3
   },
   "file_extension": ".py",
   "mimetype": "text/x-python",
   "name": "python",
   "nbconvert_exporter": "python",
   "pygments_lexer": "ipython3",
   "version": "3.6.8"
  }
 },
 "nbformat": 4,
 "nbformat_minor": 2
}
