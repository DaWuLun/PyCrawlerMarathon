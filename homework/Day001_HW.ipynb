{
 "cells": [
  {
   "cell_type": "code",
   "execution_count": 2,
   "metadata": {
    "tags": []
   },
   "outputs": [
    {
     "output_type": "stream",
     "name": "stdout",
     "text": "File exists\nlen of file_string is 11\nNumber is correct\n"
    }
   ],
   "source": [
    "#Day001_HW.py\n",
    "from urllib.request import urlretrieve\n",
    "import urllib.error\n",
    "import os\n",
    "\n",
    "#Download file into ./data/\n",
    "fileurl='https://www.w3.org/TR/PNG/iso_8859-1.txt'\n",
    "target_dir=os.path.abspath('')+'\\\\data'\n",
    "file_name='Homework.txt'\n",
    "\n",
    "os.makedirs(target_dir,exist_ok=True)\n",
    "try:\n",
    "    urlretrieve(fileurl,target_dir+'/'+file_name)\n",
    "except urllib.error.URLError:\n",
    "    print(\"Something wrong with getting the file\")\n",
    "\n",
    "#Download file into ./data/\n",
    "\n",
    "#Checking file existence\n",
    "dirs = os.listdir( './data/' )\n",
    "index=0\n",
    "flag=0\n",
    "for index in range(0,len(dirs)):\n",
    "    if(str(dirs[index]) == file_name):\n",
    "        flag=1\n",
    "\n",
    "if (flag):\n",
    "    print(\"File exists\")\n",
    "else:\n",
    "    print(\"File does not exist\")\n",
    "#Checking file existence\n",
    "\n",
    "#Write file by 'hello world'\n",
    "f=open(target_dir+'\\\\'+file_name,\"w+\")\n",
    "f.write(\"Hello world\")\n",
    "f.close()\n",
    "#Reopen the file, so the pointer will not point to EOF\n",
    "#If point to EOF, file_string will read '', causing Number is not correct\n",
    "f=open(target_dir+'\\\\'+file_name,\"r\")\n",
    "file_string=f.read()\n",
    "#print(file_string)\n",
    "#Checking file \n",
    "if ( len('Hello World') == len(file_string) ):\n",
    "    print(\"len of file_string is %d\" % len(file_string))\n",
    "    print('Number is correct')\n",
    "else:\n",
    "    print(\"len('hello world') is %d\" % len(\"Hello world\"))\n",
    "    print(\"len('file_string') is %d\" % len(file_string))\n",
    "    print('Number is not correct')\n",
    "f.close()\n"
   ]
  },
  {
   "cell_type": "code",
   "execution_count": null,
   "metadata": {},
   "outputs": [],
   "source": []
  }
 ],
 "metadata": {
  "language_info": {
   "codemirror_mode": {
    "name": "ipython",
    "version": 3
   },
   "file_extension": ".py",
   "mimetype": "text/x-python",
   "name": "python",
   "nbconvert_exporter": "python",
   "pygments_lexer": "ipython3",
   "version": "3.6.8-final"
  },
  "orig_nbformat": 2,
  "kernelspec": {
   "name": "python36864bit8dcced1438ee403c9d6ee74b67ec4259",
   "display_name": "Python 3.6.8 64-bit"
  }
 },
 "nbformat": 4,
 "nbformat_minor": 2
}